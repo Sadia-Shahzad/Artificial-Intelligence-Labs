{
 "cells": [
  {
   "cell_type": "markdown",
   "id": "610f2cb3",
   "metadata": {},
   "source": [
    "## Travel Assistant chatbot"
   ]
  },
  {
   "cell_type": "markdown",
   "id": "3ef05d7a",
   "metadata": {},
   "source": [
    "Guides the travellers about the packing tips for tours, location guides , currency conversion guides weather guides , best restuarants of city guides, travel tips and general travel related queries of tourists"
   ]
  },
  {
   "cell_type": "code",
   "execution_count": 1,
   "id": "594a86b5",
   "metadata": {},
   "outputs": [
    {
     "name": "stdout",
     "output_type": "stream",
     "text": [
      "* Running on local URL:  http://127.0.0.1:7860\n",
      "* To create a public link, set `share=True` in `launch()`.\n"
     ]
    },
    {
     "data": {
      "text/html": [
       "<div><iframe src=\"http://127.0.0.1:7860/\" width=\"100%\" height=\"500\" allow=\"autoplay; camera; microphone; clipboard-read; clipboard-write;\" frameborder=\"0\" allowfullscreen></iframe></div>"
      ],
      "text/plain": [
       "<IPython.core.display.HTML object>"
      ]
     },
     "metadata": {},
     "output_type": "display_data"
    },
    {
     "data": {
      "text/plain": []
     },
     "execution_count": 1,
     "metadata": {},
     "output_type": "execute_result"
    }
   ],
   "source": [
    "import gradio as gr\n",
    "import requests\n",
    "\n",
    "\n",
    "\n",
    "OLLAMA_URL = \"http://localhost:11434/api/chat\"\n",
    "\n",
    "system_message =\"You are a general travel assistant chatbot who guides tourists about locations, currency conversions, weather guides , food cultures , general travel tips and packing tips according to the given country/city. if you are asked about anything unrelated to travelling, refuse to answer. if you are asked about airline bookings, don't answer as they require exact updated knowledge.\"\n",
    "\n",
    "\n",
    "\n",
    "def chat(message, history):\n",
    "    messages = [{\"role\": \"system\", \"content\": system_message}] + history + [{\"role\": \"user\", \"content\": message}]\n",
    "    payload = {\"model\":\"llama3.2\",\"messages\":messages,\"stream\":False}\n",
    " \n",
    "    response=requests.post(OLLAMA_URL,json=payload)\n",
    "     \n",
    "    if response.status_code==200:\n",
    "        return response.json()['message']['content']\n",
    "    else:\n",
    "        return f\"{response.status_code}\\n{response.text}\"\n",
    "\n",
    "\n",
    "gr.ChatInterface(fn=chat, type=\"messages\").launch()"
   ]
  }
 ],
 "metadata": {
  "kernelspec": {
   "display_name": "Python 3",
   "language": "python",
   "name": "python3"
  },
  "language_info": {
   "codemirror_mode": {
    "name": "ipython",
    "version": 3
   },
   "file_extension": ".py",
   "mimetype": "text/x-python",
   "name": "python",
   "nbconvert_exporter": "python",
   "pygments_lexer": "ipython3",
   "version": "3.12.7"
  }
 },
 "nbformat": 4,
 "nbformat_minor": 5
}
